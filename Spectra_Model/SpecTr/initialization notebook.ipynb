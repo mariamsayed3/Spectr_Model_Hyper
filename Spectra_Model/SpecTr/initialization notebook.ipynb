{
 "cells": [
  {
   "cell_type": "code",
   "execution_count": 3,
   "metadata": {},
   "outputs": [
    {
     "name": "stderr",
     "output_type": "stream",
     "text": [
      "Cloning into 'SpecTr'...\n",
      "Updating files:   7% (7/89)\n",
      "Updating files:   8% (8/89)\n",
      "Updating files:  10% (9/89)\n",
      "Updating files:  11% (10/89)\n",
      "Updating files:  12% (11/89)\n",
      "Updating files:  13% (12/89)\n",
      "Updating files:  14% (13/89)\n",
      "Updating files:  15% (14/89)\n",
      "Updating files:  16% (15/89)\n",
      "Updating files:  17% (16/89)\n",
      "Updating files:  19% (17/89)\n",
      "Updating files:  20% (18/89)\n",
      "Updating files:  21% (19/89)\n",
      "Updating files:  22% (20/89)\n",
      "Updating files:  23% (21/89)\n",
      "Updating files:  24% (22/89)\n",
      "Updating files:  25% (23/89)\n",
      "Updating files:  26% (24/89)\n",
      "Updating files:  28% (25/89)\n",
      "Updating files:  29% (26/89)\n",
      "Updating files:  30% (27/89)\n",
      "Updating files:  31% (28/89)\n",
      "Updating files:  32% (29/89)\n",
      "Updating files:  33% (30/89)\n",
      "Updating files:  34% (31/89)\n",
      "Updating files:  35% (32/89)\n",
      "Updating files:  37% (33/89)\n",
      "Updating files:  38% (34/89)\n",
      "Updating files:  39% (35/89)\n",
      "Updating files:  40% (36/89)\n",
      "Updating files:  41% (37/89)\n",
      "Updating files:  42% (38/89)\n",
      "Updating files:  43% (39/89)\n",
      "Updating files:  44% (40/89)\n",
      "Updating files:  46% (41/89)\n",
      "Updating files:  47% (42/89)\n",
      "Updating files:  48% (43/89)\n",
      "Updating files:  49% (44/89)\n",
      "Updating files:  50% (45/89)\n",
      "Updating files:  51% (46/89)\n",
      "Updating files:  52% (47/89)\n",
      "Updating files:  53% (48/89)\n",
      "Updating files:  55% (49/89)\n",
      "Updating files:  56% (50/89)\n",
      "Updating files:  57% (51/89)\n",
      "Updating files:  58% (52/89)\n",
      "Updating files:  59% (53/89)\n",
      "Updating files:  60% (54/89)\n",
      "Updating files:  61% (55/89)\n",
      "Updating files:  62% (56/89)\n",
      "Updating files:  64% (57/89)\n",
      "Updating files:  65% (58/89)\n",
      "Updating files:  66% (59/89)\n",
      "Updating files:  67% (60/89)\n",
      "Updating files:  68% (61/89)\n",
      "Updating files:  69% (62/89)\n",
      "Updating files:  70% (63/89)\n",
      "Updating files:  71% (64/89)\n",
      "Updating files:  73% (65/89)\n",
      "Updating files:  74% (66/89)\n",
      "Updating files:  75% (67/89)\n",
      "Updating files:  76% (68/89)\n",
      "Updating files:  77% (69/89)\n",
      "Updating files:  78% (70/89)\n",
      "Updating files:  79% (71/89)\n",
      "Updating files:  80% (72/89)\n",
      "Updating files:  82% (73/89)\n",
      "Updating files:  83% (74/89)\n",
      "Updating files:  84% (75/89)\n",
      "Updating files:  85% (76/89)\n",
      "Updating files:  86% (77/89)\n",
      "Updating files:  87% (78/89)\n",
      "Updating files:  88% (79/89)\n",
      "Updating files:  89% (80/89)\n",
      "Updating files:  91% (81/89)\n",
      "Updating files:  92% (82/89)\n",
      "Updating files:  93% (83/89)\n",
      "Updating files:  94% (84/89)\n",
      "Updating files:  95% (85/89)\n",
      "Updating files:  96% (86/89)\n",
      "Updating files:  97% (87/89)\n",
      "Updating files:  98% (88/89)\n",
      "Updating files: 100% (89/89)\n",
      "Updating files: 100% (89/89), done.\n"
     ]
    }
   ],
   "source": [
    "!git clone https://github.com/ligtexpe45/SpecTr"
   ]
  },
  {
   "cell_type": "code",
   "execution_count": 4,
   "metadata": {},
   "outputs": [],
   "source": [
    "!pip -q install einops"
   ]
  },
  {
   "cell_type": "code",
   "execution_count": 5,
   "metadata": {},
   "outputs": [],
   "source": [
    "!pip -q install segmentation_models_pytorch"
   ]
  },
  {
   "cell_type": "code",
   "execution_count": 21,
   "metadata": {},
   "outputs": [],
   "source": [
    "!pip -q install scikit-image"
   ]
  },
  {
   "cell_type": "code",
   "execution_count": 23,
   "metadata": {},
   "outputs": [],
   "source": [
    "!pip -q install albumentations"
   ]
  },
  {
   "cell_type": "code",
   "execution_count": 16,
   "metadata": {},
   "outputs": [
    {
     "name": "stdout",
     "output_type": "stream",
     "text": [
      "c:\\Users\\maria\\Documents\\Masters_24\\New_Models\\Spectra_Model\\Spectra_Model\\SpecTr\n"
     ]
    }
   ],
   "source": [
    "import os\n",
    "print(os.getcwd())"
   ]
  },
  {
   "cell_type": "code",
   "execution_count": 17,
   "metadata": {},
   "outputs": [],
   "source": [
    "os.chdir(\"code\")"
   ]
  },
  {
   "cell_type": "code",
   "execution_count": null,
   "metadata": {},
   "outputs": [
    {
     "name": "stdout",
     "output_type": "stream",
     "text": [
      "env: CUDA_VISIBLE_DEVICES=0\n",
      "cuda:0\n",
      "train_fold is [2, 3, 4] and valid_fold is 1\n",
      "(1, 288, 32, 32) (1, 32, 32)\n",
      "Total model parameters: 3944807\n",
      "now start train ..\n",
      "epoch 1/1, LR:0.0003\n",
      "torch.Size([3, 128, 72, 8, 8]) torch.Size([3, 128, 72, 8, 8])\n",
      "torch.Size([3, 128, 144, 16, 16]) torch.Size([3, 128, 144, 16, 16])\n",
      "torch.Size([3, 128, 288, 32, 32]) torch.Size([3, 128, 288, 32, 32])\n",
      "torch.Size([3, 128, 72, 8, 8]) torch.Size([3, 128, 72, 8, 8])\n",
      "torch.Size([3, 128, 144, 16, 16]) torch.Size([3, 128, 144, 16, 16])\n",
      "torch.Size([3, 128, 288, 32, 32]) torch.Size([3, 128, 288, 32, 32])\n",
      "torch.Size([3, 128, 72, 8, 8]) torch.Size([3, 128, 72, 8, 8])\n",
      "torch.Size([3, 128, 144, 16, 16]) torch.Size([3, 128, 144, 16, 16])\n",
      "torch.Size([3, 128, 288, 32, 32]) torch.Size([3, 128, 288, 32, 32])\n",
      "now start evaluate ...\n",
      "torch.Size([1, 128, 72, 8, 8]) torch.Size([1, 128, 72, 8, 8])\n",
      "torch.Size([1, 128, 144, 16, 16]) torch.Size([1, 128, 144, 16, 16])\n",
      "torch.Size([1, 128, 288, 32, 32]) torch.Size([1, 128, 288, 32, 32])\n",
      "torch.Size([1, 128, 72, 8, 8]) torch.Size([1, 128, 72, 8, 8])\n",
      "torch.Size([1, 128, 144, 16, 16]) torch.Size([1, 128, 144, 16, 16])\n",
      "torch.Size([1, 128, 288, 32, 32]) torch.Size([1, 128, 288, 32, 32])\n",
      "torch.Size([1, 128, 72, 8, 8]) torch.Size([1, 128, 72, 8, 8])\n",
      "torch.Size([1, 128, 144, 16, 16]) torch.Size([1, 128, 144, 16, 16])\n",
      "torch.Size([1, 128, 288, 32, 32]) torch.Size([1, 128, 288, 32, 32])\n",
      "epoch 1/1\t LR:0.0003\t train loss:0.61847851673762\t train_iou:0.11240532307136752\t val_dice:0.1800138058096052\t val_iou:0.163671875\n",
      "Validation loss decreased (inf --> -0.180014).  Saving model ...\n"
     ]
    },
    {
     "name": "stderr",
     "output_type": "stream",
     "text": [
      "c:\\Users\\maria\\AppData\\Local\\Programs\\Python\\Python312\\Lib\\site-packages\\albumentations\\check_version.py:107: UserWarning: Error fetching version info <urlopen error [Errno 11001] getaddrinfo failed>\n",
      "  data = fetch_version_info()\n",
      "\n",
      "  0%|          | 0/3 [00:00<?, ?it/s]c:\\Users\\maria\\AppData\\Local\\Programs\\Python\\Python312\\Lib\\site-packages\\albumentations\\check_version.py:107: UserWarning: Error fetching version info <urlopen error [Errno 11001] getaddrinfo failed>\n",
      "  data = fetch_version_info()\n",
      "c:\\Users\\maria\\AppData\\Local\\Programs\\Python\\Python312\\Lib\\site-packages\\albumentations\\check_version.py:107: UserWarning: Error fetching version info <urlopen error [Errno 11001] getaddrinfo failed>\n",
      "  data = fetch_version_info()\n",
      "c:\\Users\\maria\\AppData\\Local\\Programs\\Python\\Python312\\Lib\\site-packages\\albumentations\\check_version.py:107: UserWarning: Error fetching version info <urlopen error [Errno 11001] getaddrinfo failed>\n",
      "  data = fetch_version_info()\n",
      "c:\\Users\\maria\\AppData\\Local\\Programs\\Python\\Python312\\Lib\\site-packages\\albumentations\\check_version.py:107: UserWarning: Error fetching version info <urlopen error [Errno 11001] getaddrinfo failed>\n",
      "  data = fetch_version_info()\n",
      "\n",
      " 33%|███▎      | 1/3 [00:16<00:33, 16.81s/it]\n",
      " 67%|██████▋   | 2/3 [00:23<00:11, 11.01s/it]\n",
      "100%|██████████| 3/3 [00:30<00:00,  9.15s/it]\n",
      "100%|██████████| 3/3 [00:32<00:00, 10.69s/it]\n",
      "\n",
      "  0%|          | 0/3 [00:00<?, ?it/s]c:\\Users\\maria\\AppData\\Local\\Programs\\Python\\Python312\\Lib\\site-packages\\albumentations\\check_version.py:107: UserWarning: Error fetching version info <urlopen error [Errno 11001] getaddrinfo failed>\n",
      "  data = fetch_version_info()\n",
      "c:\\Users\\maria\\AppData\\Local\\Programs\\Python\\Python312\\Lib\\site-packages\\albumentations\\check_version.py:107: UserWarning: Error fetching version info <urlopen error [Errno 11001] getaddrinfo failed>\n",
      "  data = fetch_version_info()\n",
      "c:\\Users\\maria\\AppData\\Local\\Programs\\Python\\Python312\\Lib\\site-packages\\albumentations\\check_version.py:107: UserWarning: Error fetching version info <urlopen error [Errno 11001] getaddrinfo failed>\n",
      "  data = fetch_version_info()\n",
      "c:\\Users\\maria\\AppData\\Local\\Programs\\Python\\Python312\\Lib\\site-packages\\albumentations\\check_version.py:107: UserWarning: Error fetching version info <urlopen error [Errno 11001] getaddrinfo failed>\n",
      "  data = fetch_version_info()\n",
      "\n",
      " 33%|███▎      | 1/3 [00:09<00:18,  9.48s/it]\n",
      " 67%|██████▋   | 2/3 [00:10<00:04,  4.60s/it]\n",
      "100%|██████████| 3/3 [00:11<00:00,  2.96s/it]\n",
      "100%|██████████| 3/3 [00:12<00:00,  4.33s/it]\n"
     ]
    }
   ],
   "source": [
    "# Set CUDA_VISIBLE_DEVICES\n",
    "%env CUDA_VISIBLE_DEVICES=0\n",
    "\n",
    "# Run Python script with corrected path\n",
    "!python C:/Users/maria/Documents/Masters_24/New_Models/Spectra_Model/Spectra_Model/SpecTr/code/train_main.py -r \"C:/Users/maria/Documents/Masters_24/New_Models/Spectra_Model/Spectra_Model/SpecTr/bioDataset2\" -dd \"C:/Users/maria/Documents/Masters_24/New_Models/Spectra_Model/Spectra_Model/SpecTr/four_folds_bio.json\" -sn 288 -cut 32 -e 50 -b 3 -c 5 --dataset bio\n"
   ]
  },
  {
   "cell_type": "code",
   "execution_count": 1,
   "metadata": {},
   "outputs": [
    {
     "name": "stdout",
     "output_type": "stream",
     "text": [
      "env: CUDA_VISIBLE_DEVICES=0\n",
      "cuda:0\n",
      "train_fold is [2, 3, 4] and valid_fold is 1\n",
      "(1, 288, 32, 32) (1, 32, 32)\n",
      "Total model parameters: 3944807\n"
     ]
    },
    {
     "name": "stderr",
     "output_type": "stream",
     "text": [
      "Traceback (most recent call last):\n",
      "  File \"e:\\Spectra_Model\\SpecTr\\code\\train_main.py\", line 379, in <module>\n",
      "    main(args)\n",
      "  File \"e:\\Spectra_Model\\SpecTr\\code\\train_main.py\", line 177, in main\n",
      "    assert False\n",
      "AssertionError\n"
     ]
    }
   ],
   "source": [
    "# Set CUDA_VISIBLE_DEVICES\n",
    "%env CUDA_VISIBLE_DEVICES=0\n",
    "\n",
    "# Run Python script with corrected path\n",
    "!python code/train_main.py -r \"./bioDataset2\" -dd \"./four_folds_bio.json\" -sn 288 -cut 32 -e 50 -b 3 -c 5 --dataset bio\n"
   ]
  },
  {
   "cell_type": "code",
   "execution_count": 1,
   "metadata": {},
   "outputs": [
    {
     "name": "stdout",
     "output_type": "stream",
     "text": [
      "env: CUDA_VISIBLE_DEVICES=0\n",
      "cuda:0\n",
      "train_fold is [2, 3, 4] and valid_fold is 1\n",
      "(1, 256, 32, 32)\n",
      "now start train ..\n",
      "epoch 1/5, LR:0.0003\n",
      "torch.Size([8, 128, 17, 3, 3]) torch.Size([8, 128, 17, 3, 3])\n",
      "torch.Size([8, 128, 35, 7, 7]) torch.Size([8, 128, 35, 7, 7])\n",
      "torch.Size([8, 128, 70, 15, 15]) torch.Size([8, 128, 256, 32, 32])\n"
     ]
    },
    {
     "name": "stderr",
     "output_type": "stream",
     "text": [
      "\n",
      "  0%|          | 0/2 [00:00<?, ?it/s]\n",
      "  0%|          | 0/2 [00:09<?, ?it/s]\n",
      "Traceback (most recent call last):\n",
      "  File \"e:\\Spectra_Model\\SpecTr\\code\\train_main.py\", line 376, in <module>\n",
      "    main(args)\n",
      "  File \"e:\\Spectra_Model\\SpecTr\\code\\train_main.py\", line 239, in main\n",
      "    raise e\n",
      "  File \"e:\\Spectra_Model\\SpecTr\\code\\train_main.py\", line 197, in main\n",
      "    out = model(image)\n",
      "          ^^^^^^^^^^^^\n",
      "  File \"c:\\Users\\Karim\\AppData\\Local\\Programs\\Python\\Python311\\Lib\\site-packages\\torch\\nn\\modules\\module.py\", line 1511, in _wrapped_call_impl\n",
      "    return self._call_impl(*args, **kwargs)\n",
      "           ^^^^^^^^^^^^^^^^^^^^^^^^^^^^^^^^\n",
      "  File \"c:\\Users\\Karim\\AppData\\Local\\Programs\\Python\\Python311\\Lib\\site-packages\\torch\\nn\\modules\\module.py\", line 1520, in _call_impl\n",
      "    return forward_call(*args, **kwargs)\n",
      "           ^^^^^^^^^^^^^^^^^^^^^^^^^^^^^\n",
      "  File \"e:\\Spectra_Model\\SpecTr\\code\\spectr.py\", line 570, in forward\n",
      "    decoder_output = self.decoder(*features)\n",
      "                     ^^^^^^^^^^^^^^^^^^^^^^^\n",
      "  File \"c:\\Users\\Karim\\AppData\\Local\\Programs\\Python\\Python311\\Lib\\site-packages\\torch\\nn\\modules\\module.py\", line 1511, in _wrapped_call_impl\n",
      "    return self._call_impl(*args, **kwargs)\n",
      "           ^^^^^^^^^^^^^^^^^^^^^^^^^^^^^^^^\n",
      "  File \"c:\\Users\\Karim\\AppData\\Local\\Programs\\Python\\Python311\\Lib\\site-packages\\torch\\nn\\modules\\module.py\", line 1520, in _call_impl\n",
      "    return forward_call(*args, **kwargs)\n",
      "           ^^^^^^^^^^^^^^^^^^^^^^^^^^^^^\n",
      "  File \"e:\\Spectra_Model\\SpecTr\\code\\spectr.py\", line 253, in forward\n",
      "    p2 = self.p2(p3, c2)\n",
      "         ^^^^^^^^^^^^^^^\n",
      "  File \"c:\\Users\\Karim\\AppData\\Local\\Programs\\Python\\Python311\\Lib\\site-packages\\torch\\nn\\modules\\module.py\", line 1511, in _wrapped_call_impl\n",
      "    return self._call_impl(*args, **kwargs)\n",
      "           ^^^^^^^^^^^^^^^^^^^^^^^^^^^^^^^^\n",
      "  File \"c:\\Users\\Karim\\AppData\\Local\\Programs\\Python\\Python311\\Lib\\site-packages\\torch\\nn\\modules\\module.py\", line 1520, in _call_impl\n",
      "    return forward_call(*args, **kwargs)\n",
      "           ^^^^^^^^^^^^^^^^^^^^^^^^^^^^^\n",
      "  File \"e:\\Spectra_Model\\SpecTr\\code\\spectr.py\", line 102, in forward\n",
      "    x = x + skip\n",
      "        ~~^~~~~~\n",
      "RuntimeError: The size of tensor a (15) must match the size of tensor b (32) at non-singleton dimension 4\n"
     ]
    }
   ],
   "source": [
    "# Set CUDA_VISIBLE_DEVICES\n",
    "%env CUDA_VISIBLE_DEVICES=0\n",
    "\n",
    "# Run Python script with corrected path\n",
    "!python code/train_main.py -r \"./bioDataset\" -dd \"./four_folds_bio.json\" -sn 70 -cut 15 -e 5 -b 8 -c 5 --dataset bio\n"
   ]
  },
  {
   "cell_type": "code",
   "execution_count": 2,
   "metadata": {},
   "outputs": [
    {
     "name": "stdout",
     "output_type": "stream",
     "text": [
      "2.5.1+cu121\n"
     ]
    }
   ],
   "source": [
    "import torch\n",
    "print(torch.__version__)"
   ]
  },
  {
   "cell_type": "code",
   "execution_count": 1,
   "metadata": {},
   "outputs": [
    {
     "name": "stdout",
     "output_type": "stream",
     "text": [
      "CUDA is available!\n",
      "CUDA version: 12.1\n",
      "Device count: 1\n",
      "Current device: 0\n",
      "Device name: NVIDIA GeForce RTX 4060 Laptop GPU\n"
     ]
    }
   ],
   "source": [
    "import torch\n",
    "\n",
    "if torch.cuda.is_available():\n",
    "    print(\"CUDA is available!\")\n",
    "    print(f\"CUDA version: {torch.version.cuda}\")\n",
    "    print(f\"Device count: {torch.cuda.device_count()}\")\n",
    "    print(f\"Current device: {torch.cuda.current_device()}\")\n",
    "    print(f\"Device name: {torch.cuda.get_device_name(torch.cuda.current_device())}\")\n",
    "else:\n",
    "    print(\"CUDA is not available.\")"
   ]
  },
  {
   "cell_type": "code",
   "execution_count": 2,
   "metadata": {},
   "outputs": [
    {
     "name": "stdout",
     "output_type": "stream",
     "text": [
      "Package                     Version\n",
      "--------------------------- -----------\n",
      "albucore                    0.0.11\n",
      "albumentations              1.4.9\n",
      "annotated-types             0.7.0\n",
      "asttokens                   2.4.1\n",
      "certifi                     2024.6.2\n",
      "charset-normalizer          3.3.2\n",
      "colorama                    0.4.6\n",
      "comm                        0.2.2\n",
      "debugpy                     1.8.1\n",
      "decorator                   5.1.1\n",
      "efficientnet_pytorch        0.7.1\n",
      "einops                      0.8.0\n",
      "exceptiongroup              1.2.1\n",
      "executing                   2.0.1\n",
      "filelock                    3.15.3\n",
      "fsspec                      2024.6.0\n",
      "huggingface-hub             0.23.4\n",
      "idna                        3.7\n",
      "imageio                     2.34.1\n",
      "intel-openmp                2021.4.0\n",
      "ipykernel                   6.29.4\n",
      "ipython                     8.25.0\n",
      "jedi                        0.19.1\n",
      "Jinja2                      3.1.4\n",
      "joblib                      1.4.2\n",
      "jupyter_client              8.6.2\n",
      "jupyter_core                5.7.2\n",
      "lazy_loader                 0.4\n",
      "MarkupSafe                  2.1.5\n",
      "matplotlib-inline           0.1.7\n",
      "mkl                         2021.4.0\n",
      "mpmath                      1.3.0\n",
      "munch                       4.0.0\n",
      "nest-asyncio                1.6.0\n",
      "networkx                    3.3\n",
      "numpy                       2.0.0\n",
      "opencv-python               4.10.0.84\n",
      "opencv-python-headless      4.10.0.84\n",
      "packaging                   24.1\n",
      "pandas                      2.2.2\n",
      "parso                       0.8.4\n",
      "pillow                      10.3.0\n",
      "pip                         24.0\n",
      "platformdirs                4.2.2\n",
      "pretrainedmodels            0.7.4\n",
      "prompt_toolkit              3.0.47\n",
      "psutil                      6.0.0\n",
      "pure-eval                   0.2.2\n",
      "pydantic                    2.7.4\n",
      "pydantic_core               2.18.4\n",
      "Pygments                    2.18.0\n",
      "python-dateutil             2.9.0.post0\n",
      "pytz                        2024.1\n",
      "pywin32                     306\n",
      "PyYAML                      6.0.1\n",
      "pyzmq                       26.0.3\n",
      "requests                    2.32.3\n",
      "safetensors                 0.4.3\n",
      "scikit-image                0.24.0\n",
      "scikit-learn                1.5.0\n",
      "scipy                       1.13.1\n",
      "segmentation-models-pytorch 0.3.3\n",
      "setuptools                  58.1.0\n",
      "six                         1.16.0\n",
      "spectral                    0.23.1\n",
      "stack-data                  0.6.3\n",
      "sympy                       1.12.1\n",
      "tbb                         2021.12.0\n",
      "threadpoolctl               3.5.0\n",
      "tifffile                    2024.6.18\n",
      "timm                        0.9.2\n",
      "tomli                       2.0.1\n",
      "torch                       2.3.1\n",
      "torchaudio                  2.3.1\n",
      "torchvision                 0.18.1\n",
      "tornado                     6.4.1\n",
      "tqdm                        4.66.4\n",
      "traitlets                   5.14.3\n",
      "typing_extensions           4.12.2\n",
      "tzdata                      2024.1\n",
      "urllib3                     2.2.2\n",
      "wcwidth                     0.2.13\n",
      "Note: you may need to restart the kernel to use updated packages.\n"
     ]
    }
   ],
   "source": [
    "%pip list\n"
   ]
  },
  {
   "cell_type": "code",
   "execution_count": 5,
   "metadata": {},
   "outputs": [
    {
     "name": "stdout",
     "output_type": "stream",
     "text": [
      "\n",
      "Traceback (most recent call last):\n",
      "\n",
      "  File \"C:\\Users\\maria\\OneDrive\\Documents\\New_Masters_Plan\\New_Models\\Spectr\\SpecTr\\code\\train_main.py\", line 8, in <module>\n",
      "\n",
      "    import torch\n",
      "\n",
      "ModuleNotFoundError: No module named 'torch'\n",
      "\n",
      "\n"
     ]
    }
   ],
   "source": [
    "!python \"C:\\Users\\maria\\OneDrive\\Documents\\New_Masters_Plan\\New_Models\\Spectr\\SpecTr\\code\\running.py\""
   ]
  },
  {
   "cell_type": "code",
   "execution_count": 6,
   "metadata": {},
   "outputs": [
    {
     "name": "stdout",
     "output_type": "stream",
     "text": [
      "Looking in indexes: https://pypi.org/simple, https://download.pytorch.org/whl/cu121\n",
      "Requirement already satisfied: torch in c:\\users\\maria\\myenv2\\lib\\site-packages (2.3.1+cu121)\n",
      "Requirement already satisfied: torchvision in c:\\users\\maria\\myenv2\\lib\\site-packages (0.18.1+cu121)\n",
      "Requirement already satisfied: torchaudio in c:\\users\\maria\\myenv2\\lib\\site-packages (2.3.1+cu121)\n",
      "Requirement already satisfied: filelock in c:\\users\\maria\\myenv2\\lib\\site-packages (from torch) (3.13.1)\n",
      "Requirement already satisfied: typing-extensions>=4.8.0 in c:\\users\\maria\\myenv2\\lib\\site-packages (from torch) (4.9.0)\n",
      "Requirement already satisfied: sympy in c:\\users\\maria\\myenv2\\lib\\site-packages (from torch) (1.12)\n",
      "Requirement already satisfied: networkx in c:\\users\\maria\\myenv2\\lib\\site-packages (from torch) (3.2.1)\n",
      "Requirement already satisfied: jinja2 in c:\\users\\maria\\myenv2\\lib\\site-packages (from torch) (3.1.3)\n",
      "Requirement already satisfied: fsspec in c:\\users\\maria\\myenv2\\lib\\site-packages (from torch) (2024.2.0)\n",
      "Requirement already satisfied: mkl<=2021.4.0,>=2021.1.1 in c:\\users\\maria\\myenv2\\lib\\site-packages (from torch) (2021.4.0)\n",
      "Requirement already satisfied: numpy in c:\\users\\maria\\myenv2\\lib\\site-packages (from torchvision) (1.26.3)\n",
      "Requirement already satisfied: pillow!=8.3.*,>=5.3.0 in c:\\users\\maria\\myenv2\\lib\\site-packages (from torchvision) (10.2.0)\n",
      "Requirement already satisfied: intel-openmp==2021.* in c:\\users\\maria\\myenv2\\lib\\site-packages (from mkl<=2021.4.0,>=2021.1.1->torch) (2021.4.0)\n",
      "Requirement already satisfied: tbb==2021.* in c:\\users\\maria\\myenv2\\lib\\site-packages (from mkl<=2021.4.0,>=2021.1.1->torch) (2021.11.0)\n",
      "Requirement already satisfied: MarkupSafe>=2.0 in c:\\users\\maria\\myenv2\\lib\\site-packages (from jinja2->torch) (2.1.5)\n",
      "Requirement already satisfied: mpmath>=0.19 in c:\\users\\maria\\myenv2\\lib\\site-packages (from sympy->torch) (1.3.0)\n",
      "Note: you may need to restart the kernel to use updated packages.\n"
     ]
    }
   ],
   "source": [
    "%pip install torch torchvision torchaudio --extra-index-url https://download.pytorch.org/whl/cu121\n"
   ]
  },
  {
   "cell_type": "code",
   "execution_count": 7,
   "metadata": {},
   "outputs": [
    {
     "name": "stdout",
     "output_type": "stream",
     "text": [
      "c:\\Users\\maria\\myenv2\\Scripts\\python.exe\n"
     ]
    }
   ],
   "source": [
    "import sys\n",
    "print(sys.executable)"
   ]
  }
 ],
 "metadata": {
  "kernelspec": {
   "display_name": "Python 3",
   "language": "python",
   "name": "python3"
  },
  "language_info": {
   "codemirror_mode": {
    "name": "ipython",
    "version": 3
   },
   "file_extension": ".py",
   "mimetype": "text/x-python",
   "name": "python",
   "nbconvert_exporter": "python",
   "pygments_lexer": "ipython3",
   "version": "3.12.0"
  }
 },
 "nbformat": 4,
 "nbformat_minor": 2
}
